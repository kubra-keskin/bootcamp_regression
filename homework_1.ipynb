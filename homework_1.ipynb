{
 "cells": [
  {
   "cell_type": "markdown",
   "id": "f0055942",
   "metadata": {},
   "source": [
    "### 1.Birkaç ülke için elinizde finansal, ekonomik ve sosyal göstergeler hakkında Dünya Bankası verileri olduğunu varsayalım. Bu ülkelerdeki gelişme düzeyini etkileyen faktörleri ölçmek istiyorsunuz. Bu amaçla, milli gelirin nüfusa bölümü olarak tanımlanan kişi başına düşen milli geliri, kalkınma seviyesi için bir vekil olarak kullanmaya karar verdiniz. Kişi başına geliri tahmin etmek için veri kümenizdeki bazı özellikleri kullanmak istiyorsunuz. Bu görev bir sınıflandırma görevi mi yoksa bir regresyon görevi mi? Niçin?"
   ]
  },
  {
   "cell_type": "markdown",
   "id": "9bd4a90a",
   "metadata": {},
   "source": [
    "Sürekli hedef değişkenine sahip olduğumuz için regresyon görevidir."
   ]
  },
  {
   "cell_type": "markdown",
   "id": "f031c544",
   "metadata": {},
   "source": [
    "### 2.Aşağıdaki argümanlardan hangileri yanlıştır ve neden?"
   ]
  },
  {
   "cell_type": "markdown",
   "id": "4440ff3e",
   "metadata": {},
   "source": [
    "OLS, özel bir doğrusal regresyon modelidir. : yanlış OLS aslında bir optimizasyon algoritmasıdır.\n",
    "Her nokta ile çizgi arasındaki mesafelerin karelerinin toplamını en aza indirmeye çalışır ve bu toplamı en aza indiren çizgiyi seçer. Bu küçültme, doğrusal regresyon yönteminin yaptığı optimizasyondur. \n",
    "\n",
    "Regresyon modelleri, doğrusal regresyon varsayımlarını karşılamıyorsa kullanışsız hale gelir. : doğru\n",
    "\n",
    "Estimation ve prediction, doğrusal regresyon modelleri bağlamında aynı şeydir. :doğru\n",
    "\n",
    "Doğrusal regresyon modeli sadece bir tür regresyon modelidir. Regresyon problemleri, Support Vector Machines veya Random Forests gibi başka modellerle de çözülebilir. : doğru\n"
   ]
  },
  {
   "cell_type": "markdown",
   "id": "8094ac96",
   "metadata": {},
   "source": [
    "### 3.Proje yöneticinizin, şirketinizin sunduğu hangi ücretsiz hizmetlerin, müşterilerinizin daha fazla ücretli hizmet satın almasını sağladığını bulmanızı istediğini varsayalım. Bu görevi bir regresyon problemi olarak formüle edin ve üzerinde çalışmak istediğiniz potansiyel sonucu ve özellikleri yazın."
   ]
  },
  {
   "cell_type": "markdown",
   "id": "586a35af",
   "metadata": {},
   "source": [
    "bağımlı değişken : ücretli_hizmet\n",
    "\n",
    "bağımsız değişken : ücretsiz_hizmet\n",
    "\n",
    "ücretli_hizmet = ß + ß1*ücretsiz hizmet + €"
   ]
  },
  {
   "cell_type": "code",
   "execution_count": null,
   "id": "50da2679",
   "metadata": {},
   "outputs": [],
   "source": []
  }
 ],
 "metadata": {
  "kernelspec": {
   "display_name": "Python 3",
   "language": "python",
   "name": "python3"
  },
  "language_info": {
   "codemirror_mode": {
    "name": "ipython",
    "version": 3
   },
   "file_extension": ".py",
   "mimetype": "text/x-python",
   "name": "python",
   "nbconvert_exporter": "python",
   "pygments_lexer": "ipython3",
   "version": "3.8.8"
  }
 },
 "nbformat": 4,
 "nbformat_minor": 5
}
